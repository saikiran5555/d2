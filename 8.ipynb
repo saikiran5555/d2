{
 "cells": [
  {
   "cell_type": "markdown",
   "id": "ef6ade37",
   "metadata": {},
   "source": [
    "PCA uses the spread and variance of the data to identify principal components through eigenvalue decomposition of the covariance matrix. Here's how it works:\n",
    "\n",
    "Compute the covariance matrix: The first step in PCA is to compute the covariance matrix of the original data. The covariance matrix summarizes the relationships between pairs of features in the data, indicating how they vary together. It is a square matrix where each element represents the covariance between two features.\n",
    "\n",
    "Eigenvalue decomposition: Next, we perform eigenvalue decomposition on the covariance matrix. This decomposition yields a set of eigenvectors and corresponding eigenvalues. The eigenvectors represent the directions (principal components) along which the data varies the most, and the eigenvalues represent the amount of variance explained by each principal component.\n",
    "\n",
    "Select principal components: The principal components are ordered based on the magnitude of their corresponding eigenvalues. The eigenvector corresponding to the largest eigenvalue represents the direction of maximum variance in the data, and it becomes the first principal component. Subsequent principal components capture decreasing amounts of variance in the data.\n",
    "\n",
    "Transform the data: Finally, we project the original data onto the selected principal components to obtain the reduced-dimensional representation of the data.\n",
    "\n",
    "By selecting principal components based on their corresponding eigenvalues, PCA effectively identifies the directions of maximum variance in the data. These principal components capture the most significant sources of variability, allowing for dimensionality reduction while preserving as much information as possible."
   ]
  }
 ],
 "metadata": {
  "kernelspec": {
   "display_name": "Python 3 (ipykernel)",
   "language": "python",
   "name": "python3"
  },
  "language_info": {
   "codemirror_mode": {
    "name": "ipython",
    "version": 3
   },
   "file_extension": ".py",
   "mimetype": "text/x-python",
   "name": "python",
   "nbconvert_exporter": "python",
   "pygments_lexer": "ipython3",
   "version": "3.10.9"
  }
 },
 "nbformat": 4,
 "nbformat_minor": 5
}
